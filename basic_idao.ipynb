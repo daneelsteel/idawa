{
 "cells": [
  {
   "cell_type": "markdown",
   "id": "1e866ab2",
   "metadata": {},
   "source": [
    "# Импорты"
   ]
  },
  {
   "cell_type": "code",
   "execution_count": null,
   "id": "f4ceac32",
   "metadata": {},
   "outputs": [],
   "source": [
    "import pandas as pd\n",
    "import pymatgen\n",
    "from pathlib import Path\n",
    "from sklearn.model_selection import train_test_split\n",
    "import json\n",
    "from pymatgen.core import Structure\n",
    "import tensorflow as tf\n",
    "import numpy as np"
   ]
  },
  {
   "cell_type": "markdown",
   "id": "b0caec58",
   "metadata": {},
   "source": [
    "# Определение функций"
   ]
  },
  {
   "cell_type": "code",
   "execution_count": null,
   "id": "2b99dc0d",
   "metadata": {},
   "outputs": [],
   "source": [
    "def read_pymatgen_dict(file):\n",
    "    with open(file, \"r\") as f:\n",
    "        d = json.load(f)\n",
    "    return Structure.from_dict(d)"
   ]
  },
  {
   "cell_type": "code",
   "execution_count": null,
   "id": "c8cb60eb",
   "metadata": {},
   "outputs": [],
   "source": [
    "def prepare_dataset(dataset_path):\n",
    "    dataset_path = Path(dataset_path)\n",
    "    targets = pd.read_csv(dataset_path / \"targets.csv\", index_col=0)\n",
    "    struct = {\n",
    "        item.name.strip(\".json\"): np.concatenate(read_pymatgen_dict(item).frac_coords)\n",
    "        for item in (dataset_path / \"structures\").iterdir()\n",
    "    }\n",
    "\n",
    "    data = pd.DataFrame(columns=[\"structures\"], index=struct.keys())\n",
    "    data = data.assign(structures=struct.values(), targets=targets)\n",
    "\n",
    "    return train_test_split(data, test_size=0.2, random_state=42)"
   ]
  },
  {
   "cell_type": "code",
   "execution_count": null,
   "id": "1c0e7231",
   "metadata": {},
   "outputs": [],
   "source": [
    "from tensorflow.keras.preprocessing.sequence import pad_sequences\n",
    "def pad_func(dataset):\n",
    "    max_len = 0\n",
    "    mean_list = []\n",
    "    for i in dataset:\n",
    "        mean_list.append(np.mean(i))\n",
    "        if len(i)>max_len:\n",
    "            max_len = len(i)\n",
    "    return pad_sequences(dataset, value=np.mean(mean_list, dtype=np.float64), dtype=np.float64, padding='post', truncating='post', maxlen=max_len)"
   ]
  },
  {
   "cell_type": "code",
   "execution_count": null,
   "id": "ea7c4a7c",
   "metadata": {},
   "outputs": [],
   "source": [
    "def energy_within_threshold(prediction, target):\n",
    "    # compute absolute error on energy per system.\n",
    "    # then count the no. of systems where max energy error is < 0.02.\n",
    "    e_thresh = 0.02\n",
    "    error_energy = tf.math.abs(target - prediction)\n",
    "\n",
    "    success = tf.math.count_nonzero(error_energy < e_thresh)\n",
    "    total = tf.size(target)\n",
    "    return float(success / tf.cast(total, tf.int64))"
   ]
  },
  {
   "cell_type": "markdown",
   "id": "ee91ef3a",
   "metadata": {},
   "source": [
    "# Подготовка датасета"
   ]
  },
  {
   "cell_type": "code",
   "execution_count": null,
   "id": "45ffea43",
   "metadata": {},
   "outputs": [],
   "source": [
    "train, test = prepare_dataset('dichalcogenides_public')\n",
    "train_y = train.targets\n",
    "train_x = pad_func(train.structures)\n",
    "test_y = test.targets\n",
    "test_x = pad_func(test.structures)"
   ]
  }
 ],
 "metadata": {
  "kernelspec": {
   "display_name": "Python 3 (ipykernel)",
   "language": "python",
   "name": "python3"
  },
  "language_info": {
   "codemirror_mode": {
    "name": "ipython",
    "version": 3
   },
   "file_extension": ".py",
   "mimetype": "text/x-python",
   "name": "python",
   "nbconvert_exporter": "python",
   "pygments_lexer": "ipython3",
   "version": "3.9.7"
  }
 },
 "nbformat": 4,
 "nbformat_minor": 5
}
